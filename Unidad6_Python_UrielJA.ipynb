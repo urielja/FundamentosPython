{
  "nbformat": 4,
  "nbformat_minor": 0,
  "metadata": {
    "colab": {
      "provenance": [],
      "include_colab_link": true
    },
    "kernelspec": {
      "name": "python3",
      "display_name": "Python 3"
    },
    "language_info": {
      "name": "python"
    }
  },
  "cells": [
    {
      "cell_type": "markdown",
      "metadata": {
        "id": "view-in-github",
        "colab_type": "text"
      },
      "source": [
        "<a href=\"https://colab.research.google.com/github/urielja/FundamentosPython/blob/main/Unidad6_Python_UrielJA.ipynb\" target=\"_parent\"><img src=\"https://colab.research.google.com/assets/colab-badge.svg\" alt=\"Open In Colab\"/></a>"
      ]
    },
    {
      "cell_type": "markdown",
      "source": [
        "![logo-alinnco.jpg](data:image/jpeg;base64,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)\n",
        "\n",
        "# ***PROGRAMACIÓN PYTHON***\n",
        "\n",
        "---\n",
        "\n",
        "\n",
        "\n"
      ],
      "metadata": {
        "id": "hvOSDIk18k-O"
      }
    },
    {
      "cell_type": "markdown",
      "source": [
        "# **UNIDAD 6 - Arreglos y matrices.**\n",
        "\n",
        "---\n",
        "## **NumPy.**\n",
        "\n",
        "Es \"el paquete fundamental para computación científica con Python\", según el sitio web oficial: [numpy.org](https://numpy.org/).\n",
        "\n",
        "Entre sus características se encuentran:\n",
        "\n",
        "\n",
        "*   Open Source.\n",
        "*   Interoperable.\n",
        "*   Fácil de usar.\n",
        "*   Herramientas de computación numérica.\n",
        "*   Alto desempeño.\n",
        "*   Arreglos N-dimensionales.\n",
        "*   Soporta prorgamación orientada a objetos.\n",
        "\n",
        "Esencialmente permite hacer con la facilidad del lenguaje de programación Python lo que se realiza con el poder de C y Fortran.\n",
        "\n",
        "Para instalar NumPy, es necesario hacerlo con el administrador de paquetes pip:\n",
        "\n",
        "`pip install numpy`\n",
        "\n",
        "o con conda:\n",
        "\n",
        "`conda install numpy`\n",
        "\n",
        "El núcleo de NumPy es `ndarray object` que encapsula arreglos n-dimensionales de tipos de datos homogéneos. con muchas operaciones siendo realizadas por código compilado para mejorar el desempeño. Las listas de Python y los arreglos de NumPy son diferentes en:\n",
        "\n",
        "* Los arreglos NumPy tienen un tamaña fijo desde que se crean. Si se cambia el tamaño, se creará un nuevo arreglo y se borrará el anterior.\n",
        "* Es necesario que todos los elmento de un arreglo NumPy sean del mismo tipo.\n",
        "* Los arreglos NumPy facilitan operaciones matemáticas avanzadas y otros tipos de aoperaciones con grandes cantidades de datos.\n",
        "\n",
        "Un arreglo es una matriz de valores que contienen información sobre datos, cómo localizar elementos y como interpretarlos. Estos elementos, como ya se mencionó anteriormente, deben ser del mismo tipo, y es posoble referirse a ellos con `dtype`. Puede ser indexado por una tupla de enteros no negativos, por booleanos, otro arreglo o enteros.\n",
        "\n",
        "\n",
        "Un objeto numpy tiene atributos y métodos heradados de la clase `numpy.ndarray`:\n",
        "\n",
        "* *Shape:* Una tupla que contiene un número de elementos (tamaño) en cada dimensión del arreglo.\n",
        "* *Size:* Número total de elementos en el arreglo.\n",
        "* *Ndim:* Número de dimensiones.\n",
        "* *Nbytes:* Número de bytes utilizados para almacenar los datos.\n",
        "* *Dtype:* El tipo de dato de los elementos del arreglo."
      ],
      "metadata": {
        "id": "ORKz6k_BKrNv"
      }
    },
    {
      "cell_type": "code",
      "source": [
        "import numpy as np\n",
        "\n",
        "array = np.array([1,2,3,4,5,6,7,8,9,10])\n",
        "\n",
        "print(\"Shape: \", array.shape)\n",
        "print(\"Size: \", array.size)\n",
        "print(\"Ndim: \", array.ndim)\n",
        "print(\"Nbytes: \", array.nbytes)\n",
        "print(\"Dtype: \", array.dtype)\n"
      ],
      "metadata": {
        "id": "_f_BdaQ6H3-e",
        "colab": {
          "base_uri": "https://localhost:8080/"
        },
        "outputId": "8cff7f28-eef3-4ad1-f6cc-f988f3777277"
      },
      "execution_count": null,
      "outputs": [
        {
          "output_type": "stream",
          "name": "stdout",
          "text": [
            "Shape:  (10,)\n",
            "Size:  10\n",
            "Ndim:  1\n",
            "Nbytes:  80\n",
            "Dtype:  int64\n"
          ]
        }
      ]
    },
    {
      "cell_type": "markdown",
      "source": [
        "### ***Ejercicio***\n",
        "\n",
        "Basado en el ejemplo anterior, realiza una función que reciba un arreglo como parámetro y muestre sus atributos en la pantalla, ademas verifica si el objeto pasado es un arreglo numpy. Ejemplos:\n",
        "\n",
        "*Entrada:*\n",
        "\n",
        "`inspect_array(np.array([1,2,3])) `\n",
        "\n",
        "*Salida:*\n",
        "\n",
        "`Shape : (3,)`\n",
        "\n",
        "`Size:  3`\n",
        "\n",
        "`Ndim:  1`\n",
        "\n",
        "`Nbytes:  24`\n",
        "\n",
        "`Dtype:  int64`\n",
        "\n",
        "`Type:  <class 'numpy.ndarray'>`\n",
        "\n",
        "`array([1, 2, 3])`\n",
        "\n",
        "*Entrada:*\n",
        "\n",
        "`inspect_array([1,2,3]) `\n",
        "\n",
        "`\"El objeto no es un arreglo NumPy\"`"
      ],
      "metadata": {
        "id": "fXeN-09frogA"
      }
    },
    {
      "cell_type": "code",
      "source": [
        "#Escribe la solución al ejercicio planteado anteriormente.\n",
        "import numpy as np\n",
        "array1 = np.array([1,2,3])\n",
        "\n",
        "def inspect_array(arreglo: np.ndarray):\n",
        "    try:\n",
        "        print(\"Shape: \",arreglo.shape)\n",
        "        print(\"Size: \",arreglo.size)\n",
        "        print(\"Ndim: \",arreglo.ndim)\n",
        "        print(\"Nbytes: \",arreglo.nbytes)\n",
        "        print(\"Dtype: \",arreglo.dtype)\n",
        "        #print(\"Type: \",arreglo.type)\n",
        "    except Exception as e:\n",
        "        print(\"No es un objeto numpoy\",type(e))\n",
        "    else:\n",
        "        print(arreglo)\n",
        "\n",
        "inspect_array(array1)\n"
      ],
      "metadata": {
        "id": "HeY2BK0IsunO",
        "colab": {
          "base_uri": "https://localhost:8080/"
        },
        "outputId": "7c12cb25-175e-4ecf-ce2e-592388afb391"
      },
      "execution_count": null,
      "outputs": [
        {
          "output_type": "stream",
          "name": "stdout",
          "text": [
            "Shape:  (3,)\n",
            "Size:  3\n",
            "Ndim:  1\n",
            "Nbytes:  24\n",
            "Dtype:  int64\n",
            "[1 2 3]\n"
          ]
        }
      ]
    },
    {
      "cell_type": "markdown",
      "source": [
        "Se utilizará la función `np.array()` para crear arreglos unidimensionales:\n",
        "\n",
        "* Usando una lista como argumento.\n",
        "* Usando una tupla como argumento.\n",
        "* Usando la función `range()`\n",
        "* usando un número entero."
      ],
      "metadata": {
        "id": "yKcKBW8fIu06"
      }
    },
    {
      "cell_type": "code",
      "source": [
        "arreglo1 = np.array([-1,4,7,9])\n",
        "tupla = (10,11,12,13,14)\n",
        "arreglo2 = np.array(tupla)\n",
        "arreglo3 = np.array(range(1,11))\n",
        "arreglo4 = np.array(range(1990,2025,5))\n",
        "arreglo5 = np.array(range(2020,1890,-10))\n",
        "arreglo6 = np.array(range(100))\n",
        "\n",
        "print(\"------------\")\n",
        "print(arreglo1,type(arreglo1))\n",
        "print(\"------------\")\n",
        "print(arreglo1,type(arreglo))\n",
        "print(\"------------\")\n",
        "print(tupla,type(tupla))\n",
        "print(\"------------\")\n",
        "print(arreglo2,type(arreglo2))\n",
        "print(\"------------\")\n",
        "print(arreglo3,type(arreglo3))\n",
        "print(\"------------\")\n",
        "print(arreglo4, type(arreglo4))\n",
        "print(\"------------\")\n",
        "print(arreglo5, type(arreglo4)\n",
        "print(\"------------\")\n",
        "print(arreglo6, type(arreglo6))"
      ],
      "metadata": {
        "id": "LONJjAZLEuyF",
        "colab": {
          "base_uri": "https://localhost:8080/"
        },
        "outputId": "a6af6ca0-71a7-4472-f1b5-c0fe9a1f26aa"
      },
      "execution_count": null,
      "outputs": [
        {
          "output_type": "stream",
          "name": "stdout",
          "text": [
            "------------\n",
            "[-1  4  7  9] <class 'numpy.ndarray'>\n",
            "(10, 11, 12, 13, 14) <class 'tuple'>\n",
            "[10 11 12 13 14] <class 'numpy.ndarray'>\n",
            "[ 1  2  3  4  5  6  7  8  9 10] <class 'numpy.ndarray'>\n",
            "[1990 1995 2000 2005 2010 2015 2020]\n",
            "[2020 2010 2000 1990 1980 1970 1960 1950 1940 1930 1920 1910 1900]\n",
            "[ 0  1  2  3  4  5  6  7  8  9 10 11 12 13 14 15 16 17 18 19 20 21 22 23\n",
            " 24 25 26 27 28 29 30 31 32 33 34 35 36 37 38 39 40 41 42 43 44 45 46 47\n",
            " 48 49 50 51 52 53 54 55 56 57 58 59 60 61 62 63 64 65 66 67 68 69 70 71\n",
            " 72 73 74 75 76 77 78 79 80 81 82 83 84 85 86 87 88 89 90 91 92 93 94 95\n",
            " 96 97 98 99]\n"
          ]
        }
      ]
    },
    {
      "cell_type": "markdown",
      "source": [
        "La función `np.ones()` permite crear un arreglo lleno con el número uno (1). La función permite especificar la forma y el *dtype* del arreglo."
      ],
      "metadata": {
        "id": "te2JFXj9HjaE"
      }
    },
    {
      "cell_type": "code",
      "source": [
        "A = np.ones(10)\n",
        "B = np.ones((4,4))\n",
        "C= np.ones((3,2), dtype=float)\n",
        "\n",
        "print(\"------------\")\n",
        "print(A,type(A))\n",
        "print(\"------------\")\n",
        "print(B,type(B))\n",
        "print(\"------------\")\n",
        "print(C,type(C))"
      ],
      "metadata": {
        "id": "9I6lguw2J5BV",
        "colab": {
          "base_uri": "https://localhost:8080/"
        },
        "outputId": "fe0684e5-3c2a-4d2f-e06c-290590c73e2a"
      },
      "execution_count": null,
      "outputs": [
        {
          "output_type": "stream",
          "name": "stdout",
          "text": [
            "------------\n",
            "[1. 1. 1. 1. 1. 1. 1. 1. 1. 1.] <class 'numpy.ndarray'>\n",
            "------------\n",
            "[[1. 1. 1. 1.]\n",
            " [1. 1. 1. 1.]\n",
            " [1. 1. 1. 1.]\n",
            " [1. 1. 1. 1.]] <class 'numpy.ndarray'>\n",
            "------------\n",
            "[[1. 1.]\n",
            " [1. 1.]\n",
            " [1. 1.]] <class 'numpy.ndarray'>\n"
          ]
        }
      ]
    },
    {
      "cell_type": "markdown",
      "source": [
        "También hay una función que permite llenar automáticamente areglos pero esta vez con los valores en cero (0)."
      ],
      "metadata": {
        "id": "y8-GP1N1RbFX"
      }
    },
    {
      "cell_type": "code",
      "source": [
        "Az = np.zeros(10)\n",
        "Bz = np.zeros((2,2))\n",
        "Cz = np.zeros((4,6))\n",
        "\n",
        "print(\"------------\")\n",
        "print(Az,type(Az))\n",
        "print(\"------------\")\n",
        "print(Bz,type(Bz))\n",
        "print(\"------------\")\n",
        "print(Cz,type(Cz))"
      ],
      "metadata": {
        "id": "hQd3vw9QRW43",
        "colab": {
          "base_uri": "https://localhost:8080/"
        },
        "outputId": "3f4fabbc-1fe9-40a0-d4a0-1caf44ee4cbb"
      },
      "execution_count": null,
      "outputs": [
        {
          "output_type": "stream",
          "name": "stdout",
          "text": [
            "------------\n",
            "[0. 0. 0. 0. 0. 0. 0. 0. 0. 0.] <class 'numpy.ndarray'>\n",
            "------------\n",
            "[[0. 0.]\n",
            " [0. 0.]] <class 'numpy.ndarray'>\n",
            "------------\n",
            "[[0. 0. 0. 0. 0. 0.]\n",
            " [0. 0. 0. 0. 0. 0.]\n",
            " [0. 0. 0. 0. 0. 0.]\n",
            " [0. 0. 0. 0. 0. 0.]] <class 'numpy.ndarray'>\n"
          ]
        }
      ]
    },
    {
      "cell_type": "markdown",
      "source": [
        "La función `np.full(shape, fill_value, dtype)` permite crear un arreglo con una forma, tipo y valor definidos por el usuario."
      ],
      "metadata": {
        "id": "jEM6L1XBSVeY"
      }
    },
    {
      "cell_type": "code",
      "source": [
        "import random\n",
        "\n",
        "A = np.full(shape=(10), fill_value=5, dtype=float)\n",
        "B = np.full(shape=(4,4), fill_value=-5, dtype=float)\n",
        "C = np.full(shape=(3,3), fill_value=3, dtype=int)\n",
        "D = np.full(shape=(10,10), fill_value=50, dtype=int)\n",
        "E = np.full(shape=(100,100), fill_value=(random.randint(1,10)), dtype=int)\n",
        "\n",
        "print(\"------------\")\n",
        "print(A,type(A))\n",
        "print(\"------------\")\n",
        "print(B,type(B))\n",
        "print(\"------------\")\n",
        "print(C,type(C))\n",
        "print(\"------------\")\n",
        "print(D,type(D))\n",
        "print(\"------------\")\n",
        "print(E,type(E))"
      ],
      "metadata": {
        "id": "oNeM3FThSx3B",
        "colab": {
          "base_uri": "https://localhost:8080/"
        },
        "outputId": "f852fdb0-aa85-4d84-a295-53d97e32a7e4"
      },
      "execution_count": null,
      "outputs": [
        {
          "output_type": "stream",
          "name": "stdout",
          "text": [
            "------------\n",
            "[5. 5. 5. 5. 5. 5. 5. 5. 5. 5.] <class 'numpy.ndarray'>\n",
            "------------\n",
            "[[-5. -5. -5. -5.]\n",
            " [-5. -5. -5. -5.]\n",
            " [-5. -5. -5. -5.]\n",
            " [-5. -5. -5. -5.]] <class 'numpy.ndarray'>\n",
            "------------\n",
            "[[3 3 3]\n",
            " [3 3 3]\n",
            " [3 3 3]] <class 'numpy.ndarray'>\n",
            "------------\n",
            "[[50 50 50 50 50 50 50 50 50 50]\n",
            " [50 50 50 50 50 50 50 50 50 50]\n",
            " [50 50 50 50 50 50 50 50 50 50]\n",
            " [50 50 50 50 50 50 50 50 50 50]\n",
            " [50 50 50 50 50 50 50 50 50 50]\n",
            " [50 50 50 50 50 50 50 50 50 50]\n",
            " [50 50 50 50 50 50 50 50 50 50]\n",
            " [50 50 50 50 50 50 50 50 50 50]\n",
            " [50 50 50 50 50 50 50 50 50 50]\n",
            " [50 50 50 50 50 50 50 50 50 50]] <class 'numpy.ndarray'>\n",
            "------------\n",
            "[[9 9 9 ... 9 9 9]\n",
            " [9 9 9 ... 9 9 9]\n",
            " [9 9 9 ... 9 9 9]\n",
            " ...\n",
            " [9 9 9 ... 9 9 9]\n",
            " [9 9 9 ... 9 9 9]\n",
            " [9 9 9 ... 9 9 9]] <class 'numpy.ndarray'>\n"
          ]
        }
      ]
    },
    {
      "cell_type": "markdown",
      "source": [
        "`numpy.nan`  es la representación en punto flotante del estándar de la IEEE754 de \"Not a Number\".\n",
        "La función `numpy.isnan()` verifica si algún elemento del arreglo es NAN y devuelve un arreglo de booleanos."
      ],
      "metadata": {
        "id": "IIndzu_dTxVl"
      }
    },
    {
      "cell_type": "code",
      "source": [
        "K = np.array([\n",
        "    [np.nan, 1,10,0],\n",
        "    [np.nan, np.nan,np.nan,np.nan],\n",
        "    [100, 50, np.nan, -25],\n",
        "    [30, np.nan, np.nan, np.nan]\n",
        "])\n",
        "\n",
        "print(np.isnan(K))\n",
        "print(f'Hay {np.isnan(K).sum()} datos perdidos en K')"
      ],
      "metadata": {
        "id": "zG48jzW6UlwV",
        "colab": {
          "base_uri": "https://localhost:8080/"
        },
        "outputId": "cd128662-3530-45de-ee3b-8372760f383c"
      },
      "execution_count": null,
      "outputs": [
        {
          "output_type": "stream",
          "name": "stdout",
          "text": [
            "[[ True False False False]\n",
            " [ True  True  True  True]\n",
            " [False False  True False]\n",
            " [False  True  True  True]]\n",
            "Hay 9 datos perdidos en K\n"
          ]
        }
      ]
    },
    {
      "cell_type": "markdown",
      "source": [
        "La función `numpy.linspace()` retorna un arreglo de número separados de manera unforme en un rango definido. Por ejemplo, para crear un arreglo con número entre el 1 y el 21 dividos en 5 partes el código sería:"
      ],
      "metadata": {
        "id": "LdxcY2NaYK_z"
      }
    },
    {
      "cell_type": "code",
      "source": [
        "A = np.linspace(1,21,5)\n",
        "print(A)"
      ],
      "metadata": {
        "id": "DHeyCIsEYvZ-",
        "colab": {
          "base_uri": "https://localhost:8080/"
        },
        "outputId": "7182f623-424d-4b0f-ea05-a6d47c649161"
      },
      "execution_count": null,
      "outputs": [
        {
          "output_type": "stream",
          "name": "stdout",
          "text": [
            "[ 1.  6. 11. 16. 21.]\n"
          ]
        }
      ]
    },
    {
      "cell_type": "markdown",
      "source": [
        "Para crear un arreglo separado uniformemente pero en una escala logaritmica, se utiliza la función `np.logspace()`.\n",
        "La función `reshape()` le cambia la forma al arreglo sin cambiar sus datos. Si la nueva forma es de una dimensión, puede tener un valor de -1, en tal caso, el valor es inferido de de la longitud del arreglo y sus dimensiones restantes."
      ],
      "metadata": {
        "id": "dy4AFPoFZBy_"
      }
    },
    {
      "cell_type": "code",
      "source": [
        "A = np.logspace(1, 51, 10)\n",
        "B = A.reshape(5,2)\n",
        "\n",
        "print(A)\n",
        "print(\"------------------------------------\")\n",
        "print(B)"
      ],
      "metadata": {
        "id": "Gtcpexy3ZlOs",
        "colab": {
          "base_uri": "https://localhost:8080/"
        },
        "outputId": "b44864d9-84d6-48ad-f551-5cec4b2623cf"
      },
      "execution_count": null,
      "outputs": [
        {
          "output_type": "stream",
          "name": "stdout",
          "text": [
            "[1.00000000e+01 3.59381366e+06 1.29154967e+12 4.64158883e+17\n",
            " 1.66810054e+23 5.99484250e+28 2.15443469e+34 7.74263683e+39\n",
            " 2.78255940e+45 1.00000000e+51]\n",
            "------------------------------------\n",
            "[[1.00000000e+01 3.59381366e+06]\n",
            " [1.29154967e+12 4.64158883e+17]\n",
            " [1.66810054e+23 5.99484250e+28]\n",
            " [2.15443469e+34 7.74263683e+39]\n",
            " [2.78255940e+45 1.00000000e+51]]\n"
          ]
        }
      ]
    },
    {
      "cell_type": "markdown",
      "source": [
        "`numpy.diag()` Extrae o crea una diagonal, el argumento `k` especifica la diagonal. Su valor predeterminado es la diagonal principal, mayor a cero para diagonales arriba de la principal y menor a cero para diagnoales abajo de la principal."
      ],
      "metadata": {
        "id": "mgBsS6dPa9xO"
      }
    },
    {
      "cell_type": "code",
      "source": [
        "print(np.diag(range(0,100,5)))\n",
        "print(\"------------------------------------\")\n",
        "print(np.diag(range(5,31,5),1))\n",
        "print(\"------------------------------------\")\n",
        "print(np.diag(range(5,31,5),-1))"
      ],
      "metadata": {
        "id": "mJnm-hkObr2E",
        "colab": {
          "base_uri": "https://localhost:8080/"
        },
        "outputId": "177ae932-fa53-4191-b756-6656aae39201"
      },
      "execution_count": null,
      "outputs": [
        {
          "output_type": "stream",
          "name": "stdout",
          "text": [
            "[[ 0  0  0  0  0  0  0  0  0  0  0  0  0  0  0  0  0  0  0  0]\n",
            " [ 0  5  0  0  0  0  0  0  0  0  0  0  0  0  0  0  0  0  0  0]\n",
            " [ 0  0 10  0  0  0  0  0  0  0  0  0  0  0  0  0  0  0  0  0]\n",
            " [ 0  0  0 15  0  0  0  0  0  0  0  0  0  0  0  0  0  0  0  0]\n",
            " [ 0  0  0  0 20  0  0  0  0  0  0  0  0  0  0  0  0  0  0  0]\n",
            " [ 0  0  0  0  0 25  0  0  0  0  0  0  0  0  0  0  0  0  0  0]\n",
            " [ 0  0  0  0  0  0 30  0  0  0  0  0  0  0  0  0  0  0  0  0]\n",
            " [ 0  0  0  0  0  0  0 35  0  0  0  0  0  0  0  0  0  0  0  0]\n",
            " [ 0  0  0  0  0  0  0  0 40  0  0  0  0  0  0  0  0  0  0  0]\n",
            " [ 0  0  0  0  0  0  0  0  0 45  0  0  0  0  0  0  0  0  0  0]\n",
            " [ 0  0  0  0  0  0  0  0  0  0 50  0  0  0  0  0  0  0  0  0]\n",
            " [ 0  0  0  0  0  0  0  0  0  0  0 55  0  0  0  0  0  0  0  0]\n",
            " [ 0  0  0  0  0  0  0  0  0  0  0  0 60  0  0  0  0  0  0  0]\n",
            " [ 0  0  0  0  0  0  0  0  0  0  0  0  0 65  0  0  0  0  0  0]\n",
            " [ 0  0  0  0  0  0  0  0  0  0  0  0  0  0 70  0  0  0  0  0]\n",
            " [ 0  0  0  0  0  0  0  0  0  0  0  0  0  0  0 75  0  0  0  0]\n",
            " [ 0  0  0  0  0  0  0  0  0  0  0  0  0  0  0  0 80  0  0  0]\n",
            " [ 0  0  0  0  0  0  0  0  0  0  0  0  0  0  0  0  0 85  0  0]\n",
            " [ 0  0  0  0  0  0  0  0  0  0  0  0  0  0  0  0  0  0 90  0]\n",
            " [ 0  0  0  0  0  0  0  0  0  0  0  0  0  0  0  0  0  0  0 95]]\n",
            "------------------------------------\n",
            "[[ 0  5  0  0  0  0  0]\n",
            " [ 0  0 10  0  0  0  0]\n",
            " [ 0  0  0 15  0  0  0]\n",
            " [ 0  0  0  0 20  0  0]\n",
            " [ 0  0  0  0  0 25  0]\n",
            " [ 0  0  0  0  0  0 30]\n",
            " [ 0  0  0  0  0  0  0]]\n",
            "------------------------------------\n",
            "[[ 0  0  0  0  0  0  0]\n",
            " [ 5  0  0  0  0  0  0]\n",
            " [ 0 10  0  0  0  0  0]\n",
            " [ 0  0 15  0  0  0  0]\n",
            " [ 0  0  0 20  0  0  0]\n",
            " [ 0  0  0  0 25  0  0]\n",
            " [ 0  0  0  0  0 30  0]]\n"
          ]
        }
      ]
    },
    {
      "cell_type": "markdown",
      "source": [
        "La función `np.eye()` devuelve una matriz con unos en la diagonal y ceros en lo demás lugares, otra función equivalente es `np.identity()`."
      ],
      "metadata": {
        "id": "xXjvLRbhgjug"
      }
    },
    {
      "cell_type": "code",
      "source": [
        "print(np.eye(5))\n",
        "print(\"------------------------------------\")\n",
        "print(np.identity(5))"
      ],
      "metadata": {
        "id": "tICfS3gVhKXA",
        "colab": {
          "base_uri": "https://localhost:8080/"
        },
        "outputId": "3a630ec4-48c4-4731-866d-cd2284e0e965"
      },
      "execution_count": null,
      "outputs": [
        {
          "output_type": "stream",
          "name": "stdout",
          "text": [
            "[[1. 0. 0. 0. 0.]\n",
            " [0. 1. 0. 0. 0.]\n",
            " [0. 0. 1. 0. 0.]\n",
            " [0. 0. 0. 1. 0.]\n",
            " [0. 0. 0. 0. 1.]]\n",
            "------------------------------------\n",
            "[[1. 0. 0. 0. 0.]\n",
            " [0. 1. 0. 0. 0.]\n",
            " [0. 0. 1. 0. 0.]\n",
            " [0. 0. 0. 1. 0.]\n",
            " [0. 0. 0. 0. 1.]]\n"
          ]
        }
      ]
    },
    {
      "cell_type": "markdown",
      "source": [
        "Con `numpy.sum()` es posible sumar los elementos de un arreglo en un eje dado."
      ],
      "metadata": {
        "id": "PnyLSIfjgsEL"
      }
    },
    {
      "cell_type": "code",
      "source": [
        "array1 =  np.arange(1,11)\n",
        "array2 =  np.linspace(1,50,10)\n",
        "array3 =  np.array(range(51))\n",
        "array4 =  np.logspace(1,10,5)\n",
        "array5 =  np.diag(range(5,31,5))\n",
        "arrays =  [array1,array2,array3,array4,array5]\n",
        "\n",
        "for e in arrays:\n",
        "    print(e)\n",
        "    print(\"-----------\")\n",
        "\n",
        "for index, array in enumerate(arrays, start=1):\n",
        "    print(f\"Suma de los elementos del arreglo {index}: \",  array.sum())\n"
      ],
      "metadata": {
        "id": "oAGnFA3CjLlJ",
        "colab": {
          "base_uri": "https://localhost:8080/"
        },
        "outputId": "0654e9dd-c758-4fce-d12d-74eb1634e049"
      },
      "execution_count": null,
      "outputs": [
        {
          "output_type": "stream",
          "name": "stdout",
          "text": [
            "[ 1  2  3  4  5  6  7  8  9 10]\n",
            "-----------\n",
            "[ 1.          6.44444444 11.88888889 17.33333333 22.77777778 28.22222222\n",
            " 33.66666667 39.11111111 44.55555556 50.        ]\n",
            "-----------\n",
            "[ 0  1  2  3  4  5  6  7  8  9 10 11 12 13 14 15 16 17 18 19 20 21 22 23\n",
            " 24 25 26 27 28 29 30 31 32 33 34 35 36 37 38 39 40 41 42 43 44 45 46 47\n",
            " 48 49 50]\n",
            "-----------\n",
            "[1.00000000e+01 1.77827941e+03 3.16227766e+05 5.62341325e+07\n",
            " 1.00000000e+10]\n",
            "-----------\n",
            "[[ 5  0  0  0  0  0]\n",
            " [ 0 10  0  0  0  0]\n",
            " [ 0  0 15  0  0  0]\n",
            " [ 0  0  0 20  0  0]\n",
            " [ 0  0  0  0 25  0]\n",
            " [ 0  0  0  0  0 30]]\n",
            "-----------\n",
            "Suma de los elementos del arreglo 1:  55\n",
            "Suma de los elementos del arreglo 2:  255.0\n",
            "Suma de los elementos del arreglo 3:  1275\n",
            "Suma de los elementos del arreglo 4:  10056552148.564463\n",
            "Suma de los elementos del arreglo 5:  105\n"
          ]
        }
      ]
    },
    {
      "cell_type": "markdown",
      "source": [
        "Se puede llenar un arreglos con números aleatorios. `randint()` lo hace con enteros de la manera [inferior, superior] donde el límite inferior es inclusivo y el superior es exclusivo.\n",
        "De una matriz se puede obtener la suma de los elementos totales (numpy.sum()) o especificando si se desea sumar las filas o culumnas."
      ],
      "metadata": {
        "id": "AY9ob3KVgsGh"
      }
    },
    {
      "cell_type": "code",
      "source": [
        "from random import randint\n",
        "matriz =  np.array(np.random.randint(1, 100, 15)).reshape(5,3)\n",
        "\n",
        "print(matriz)\n",
        "print(\"Sumna total de los elementos: \", matriz.sum())\n",
        "print(\"Sumna total de lineas: \", matriz.sum(axis=1))\n",
        "print(\"Sumna total de columnas: \", matriz.sum(axis=0))"
      ],
      "metadata": {
        "id": "NkQ3DnNRlZl1",
        "colab": {
          "base_uri": "https://localhost:8080/"
        },
        "outputId": "c05db5ae-6116-4b9e-bfc0-5925b6ffc9da"
      },
      "execution_count": null,
      "outputs": [
        {
          "output_type": "stream",
          "name": "stdout",
          "text": [
            "[[49 14 26]\n",
            " [62 24 17]\n",
            " [66 63 38]\n",
            " [22 47 35]\n",
            " [68 87 77]]\n",
            "Sumna total de los elementos:  695\n",
            "Sumna total de lineas:  [ 89 103 167 104 232]\n",
            "Sumna total de columnas:  [267 235 193]\n"
          ]
        }
      ]
    },
    {
      "cell_type": "markdown",
      "source": [
        "También es posible encontrar el valor máximo y mínimo de un arreglo con las funciones `ndarray.max()` y con la función `ndarray.min()`. Así como su índice correspondiente:"
      ],
      "metadata": {
        "id": "rsXNSLg4gsIo"
      }
    },
    {
      "cell_type": "code",
      "source": [
        "\n",
        "array1 = np.array([-1,10,3,4,7,27])\n",
        "array2 = np.random.randint(-100,300,30)\n",
        "array3 = np.random.randn(10)\n",
        "array4 = np.array(range(50,10,-2))\n",
        "\n",
        "arrays=[array1,array2,array3,array4]\n",
        "\n",
        "for index, array in enumerate(arrays,start=1):\n",
        "    print(f\"Arreglo {index}\")\n",
        "    print(f\"Valor maximo\", array.max(), \"indice\", array.argmax())\n",
        "    print(f\"Valor minimi\", array.min(), \"indice\", array.argmin())\n",
        "\n"
      ],
      "metadata": {
        "id": "8PW07hw4mupv",
        "colab": {
          "base_uri": "https://localhost:8080/"
        },
        "outputId": "c9f09e04-b7a1-4966-d8ca-1e4ded63f67d"
      },
      "execution_count": null,
      "outputs": [
        {
          "output_type": "stream",
          "name": "stdout",
          "text": [
            "Arreglo 1\n",
            "Valor maximo 27 indice 5\n",
            "Valor minimi -1 indice 0\n",
            "Arreglo 2\n",
            "Valor maximo 290 indice 11\n",
            "Valor minimi -97 indice 18\n",
            "Arreglo 3\n",
            "Valor maximo 0.4406776883482762 indice 4\n",
            "Valor minimi -2.492125733551011 indice 6\n",
            "Arreglo 4\n",
            "Valor maximo 50 indice 0\n",
            "Valor minimi 12 indice 19\n"
          ]
        }
      ]
    },
    {
      "cell_type": "markdown",
      "source": [
        "### ***Ejercicio:***\n",
        "\n",
        "Crea una función que reciba una matriz como entrada y calcula:\n",
        "\n",
        "1. Valor máximo de la matriz.\n",
        "2. Valor máximo por columna.\n",
        "3. Valor máximo por línea.\n",
        "4. Valor mínimo de la matriz.\n",
        "5. Valor mínimo por columna.\n",
        "6. Valor mínimo por línea.\n",
        "\n",
        "Observa el siguiente ejemplo:\n",
        "\n",
        "*Datos de entrada:*\n",
        "\n",
        "`matrix = np.random.randint(-1000,1000,50).reshape(10,5)`\n",
        "\n",
        "`info_array(array)`\n",
        "\n",
        "*Salida:*\n",
        "\n",
        "`Valor máximo de la matriz:  987`\n",
        "\n",
        "`Valor máximo por columna:  [959 987 597 748 719]`\n",
        "\n",
        "`Valor máximo por línea:  [ 987  312  982  204  719  689  101  793 -460  959]`\n",
        "\n",
        "`Valor mínimo de la matriz:  -969`\n",
        "\n",
        "`Valor mínimo por columna:  [-878 -966 -969 -884 -881]`\n",
        "\n",
        "`Valor mínimo por línea:  [  30 -878 -335 -863  -40 -289 -660 -239 -969 -966]`\n",
        "\n",
        "**NOTA:** Revisa la documentación oficial para obtener más información."
      ],
      "metadata": {
        "id": "sSHJ_ZikgsKx"
      }
    },
    {
      "cell_type": "code",
      "source": [
        "#Resuelve el ejercicio planteado anteriormente.\n",
        "import numpy as np\n",
        "\n",
        "def info_array(matrix):\n",
        "\n",
        "    max_value = np.max(matrix)\n",
        "\n",
        "    max_col = np.max(matrix, axis=0)\n",
        "\n",
        "    max_lin = np.max(matrix, axis=1)\n",
        "\n",
        "    min_value = np.min(matrix)\n",
        "\n",
        "    min_col = np.min(matrix, axis=0)\n",
        "\n",
        "    min_lin = np.min(matrix, axis=1)\n",
        "\n",
        "    print(f\"Valor maximo de la matriz: {max_value}\")\n",
        "    print(f\"Valor maximo por columna: {max_col}\")\n",
        "    print(f\"Valor maximo por linea: {max_lin}\")\n",
        "    print(f\"Valor minimo de la matriz: {min_value}\")\n",
        "    print(f\"Valor minimo por columna: {min_col}\")\n",
        "    print(f\"Valor minimo por linea: {min_lin}\")\n",
        "\n",
        "\n",
        "matrix = np.random.randint(-1000, 1000, 50).reshape(10, 5)\n",
        "info_array(matrix)"
      ],
      "metadata": {
        "id": "bEEWBc6OpFTh",
        "colab": {
          "base_uri": "https://localhost:8080/"
        },
        "outputId": "a2521520-29ff-42c0-95c7-e9c85ab8118b"
      },
      "execution_count": 2,
      "outputs": [
        {
          "output_type": "stream",
          "name": "stdout",
          "text": [
            "Valor maximo de la matriz: 971\n",
            "Valor maximo por columna: [765 734 971 818 756]\n",
            "Valor maximo por linea: [756 395  62 827 971 818 952 968 788 554]\n",
            "Valor minimo de la matriz: -923\n",
            "Valor minimo por columna: [-923 -812 -661 -731 -708]\n",
            "Valor minimo por linea: [-661 -923 -731 -345 -708 -812 -861 -531 -799 -582]\n"
          ]
        }
      ]
    },
    {
      "cell_type": "markdown",
      "source": [
        "También se incluyen funciones que contienen operaciones estadísticas como promedio, mediana, desviación estándar y varianza."
      ],
      "metadata": {
        "id": "rMYYLbemgsM1"
      }
    },
    {
      "cell_type": "code",
      "source": [
        "arr = np.random.normal(40,0.5, size=(300))\n",
        "\n",
        "print(f\"Promedio:{np.mean(arr)}\")\n",
        "print(f\"Mediana:{np.median(arr)}\")\n",
        "print(f\"Desviacion estandar:{np.std(arr)}\")\n",
        "print(f\"Varianza:{np.var(arr)}\")"
      ],
      "metadata": {
        "id": "MYiG7Y5xuEBY",
        "colab": {
          "base_uri": "https://localhost:8080/"
        },
        "outputId": "ac4d6ffe-057d-46df-9e32-68b66f8dd764"
      },
      "execution_count": 3,
      "outputs": [
        {
          "output_type": "stream",
          "name": "stdout",
          "text": [
            "Promedio:40.02048020822852\n",
            "Mediana:40.00204989072408\n",
            "Desviacion estandar:0.5135615663620523\n",
            "Varianza:0.26374548244424467\n"
          ]
        }
      ]
    },
    {
      "cell_type": "markdown",
      "source": [
        "`numpy.ncov()` y `numpy.corrcoef()` permiten obtener las matrices de covarianza y correlación respectivamente."
      ],
      "metadata": {
        "id": "lqv9sibPt8yp"
      }
    },
    {
      "cell_type": "code",
      "source": [
        "x = np.random.rand(100)\n",
        "y = np.random.uniform(size=100)\n",
        "\n",
        "print(f\"Matriz de correlacion: {np.corrcoef(x, y)}\")\n",
        "print()\n",
        "print(f\"Matriz covarianza: {np.cov(x, y)}\")"
      ],
      "metadata": {
        "id": "gCpKmK0MukJg",
        "colab": {
          "base_uri": "https://localhost:8080/"
        },
        "outputId": "e5361d1e-5558-4363-b428-548d86226544"
      },
      "execution_count": 7,
      "outputs": [
        {
          "output_type": "stream",
          "name": "stdout",
          "text": [
            "Matriz de correlacion: [[ 1.         -0.04045907]\n",
            " [-0.04045907  1.        ]]\n",
            "\n",
            "Matriz covarianza: [[ 0.09042062 -0.00343518]\n",
            " [-0.00343518  0.07972592]]\n"
          ]
        }
      ]
    },
    {
      "cell_type": "markdown",
      "source": [
        "### ***Ejercicio:***\n",
        "Realiza una función que reciba un arreglo NumPy y muestre un conjunto de estadísticas descriptivas del objeto. Ejemplo:\n",
        "\n",
        "*Entrada:*\n",
        "\n",
        "`array = np.array([-57, 101, 270, 130, 144])`\n",
        "\n",
        "`info_array(array)`\n",
        "\n",
        "*Salida:*\n",
        "\n",
        "`Máx: 270`\n",
        "\n",
        "`Mín: -57`\n",
        "\n",
        "`Promedio: 117.6`\n",
        "\n",
        "`Mediana: 130.0`\n",
        "\n",
        "`Varianza: 10967.439999999999`\n",
        "\n",
        "`Desviación estándar: 104.72554607162475`\n",
        "\n",
        "**NOTA:** Puedes utilizar las funciones creadas anteriormente si lo consideras necesarios, como validar que el argumento sea un arreglo numpy válido antes de intentar mostrar las estadísticas, siguiendo los aspectos de robustez y buenas prácticas de programación"
      ],
      "metadata": {
        "id": "Nqv4Ke2HgsO0"
      }
    },
    {
      "cell_type": "code",
      "source": [
        "#Desarrolla la respuesta al ejercicio descrito."
      ],
      "metadata": {
        "id": "MpmuoL233qCb"
      },
      "execution_count": null,
      "outputs": []
    },
    {
      "cell_type": "markdown",
      "source": [
        "La función `numpy.unique()` devuelve los elementos únicos ordenados en un arreglo. Existen tres posibles salidas en adición a los elementos únicos:\n",
        "* Los índices que el arreglo original le otorga a los elementos únicos.\n",
        "* Los índices que el arreglo con los elementos únicos que reconstruye el arreglo de entrada.\n",
        "* El número de veces que cada elemento único aparece en el arreglo de entrada."
      ],
      "metadata": {
        "id": "Ppm9YLaKgsQ-"
      }
    },
    {
      "cell_type": "code",
      "source": [
        "from enum import unique\n",
        "from enum import unique\n",
        "A = np.array([\n",
        "    [1,3,3,4,5],\n",
        "    [4,7,11,3,5],\n",
        "    [1,11,4,4,11]\n",
        "])\n",
        "\n",
        "B = np.unique(A)\n",
        "print(B)\n",
        "B, indices=np.unique(A, return_index=True)\n",
        "print(B, indices)\n",
        "B, conteo=np.unique(A, return_counts=True)\n",
        "print(B, conteo)"
      ],
      "metadata": {
        "id": "GSRGHu128xoa",
        "colab": {
          "base_uri": "https://localhost:8080/"
        },
        "outputId": "5f0944bc-e479-4030-8599-53f081098916"
      },
      "execution_count": 10,
      "outputs": [
        {
          "output_type": "stream",
          "name": "stdout",
          "text": [
            "[ 1  3  4  5  7 11]\n",
            "[ 1  3  4  5  7 11] [0 1 3 4 6 7]\n",
            "[ 1  3  4  5  7 11] [2 3 4 2 1 3]\n"
          ]
        }
      ]
    },
    {
      "cell_type": "markdown",
      "source": [
        "### ***Ejercicio:***\n",
        "\n",
        "De los siguientes arreglos:\n",
        "\n",
        "`array1 = np.array([10, 20, 30, 40])`\n",
        "\n",
        "`array2 = np.array([100, 30, 5, 1, 40, 100, 20, 130, 155, 170])`\n",
        "\n",
        "Obtén:\n",
        "* El primero, el tercero y el último elemento de cada uno.\n",
        "* Invierte el arreglo.\n",
        "* Toma el elemento 20 de cada arreglo, súmalos, guarda el resultado en una varibale.\n",
        "* Muestra los los resutlados."
      ],
      "metadata": {
        "id": "MqvMxV7JgsS6"
      }
    },
    {
      "cell_type": "code",
      "source": [
        "#Escribe aquí la solución al problema planteado anteriormente.\n",
        "import numpy as np\n",
        "\n",
        "array1 = np.array([10, 20, 30, 40])\n",
        "array2 = np.array([100, 30, 5, 1, 40, 100, 20, 130, 155, 170])\n",
        "\n",
        "# Indices primero = 0, tercero = 2, ultimo = -1\n",
        "eementos_array1 = array1[[0, 2, -1]] #indexacion multiple\n",
        "elementos_array2 = array2[[0, 2, -1]]\n",
        "\n",
        "print(\"Primero, tercero y el último elemento de array1:\", elementos_array1)\n",
        "print(\"Primero, tercero y el último elemento de array2:\", elementos_array2)\n",
        "\n",
        "array1_invertido = array1[::-1]#con esta instruccion se invierte\n",
        "array2_invertido = array2[::-1]\n",
        "\n",
        "print(\"array1 invertido:\", array1_invertido)\n",
        "print(\"array2 invertido:\", array2_invertido)\n",
        "\n",
        "# Buscar el valor 20 en cada arreglo\n",
        "valor1 = array1[array1 == 20][0] #evalua si existe el elemento 20 y lo guarda\n",
        "valor2 = array2[array2 == 20][0]\n",
        "\n",
        "# Sumar y guardar el resultado\n",
        "suma = valor1 + valor2\n",
        "\n",
        "print(\"Suma de los valores 20:\", suma)\n"
      ],
      "metadata": {
        "id": "nhMH7V-2_gaO",
        "colab": {
          "base_uri": "https://localhost:8080/"
        },
        "outputId": "f5288756-ac9e-4fc9-f74e-52974f59e59a"
      },
      "execution_count": 4,
      "outputs": [
        {
          "output_type": "stream",
          "name": "stdout",
          "text": [
            "Primero, tercero y el último elemento de array1: [10 30 40]\n",
            "Primero, tercero y el último elemento de array2: [100   5 170]\n",
            "array1 invertido: [40 30 20 10]\n",
            "array2 invertido: [170 155 130  20 100  40   1   5  30 100]\n",
            "Suma de los valores 20: 40\n"
          ]
        }
      ]
    },
    {
      "cell_type": "markdown",
      "source": [
        "### ***Ejercicio:***\n",
        "\n",
        "Accede a los números 5, 9, 3 y 21 del siguiente arreglo y muéstralos en pantalla:\n",
        "\n",
        "`ar = np.array([`\n",
        "\n",
        "`    [[1, 1, 5, 1],`\n",
        "\n",
        "`    [1, 1, 1, 9]],`\n",
        "\n",
        "`    [[1, 3, 1, 1],`\n",
        "\n",
        "`    [1, 1, 21, 1]]`\n",
        "\n",
        "                `])`"
      ],
      "metadata": {
        "id": "fKzPErvHgsV6"
      }
    },
    {
      "cell_type": "code",
      "source": [
        "#Escribe la solución al problema planteado anteriormene.\n",
        "ar = np.array([\n",
        "    [[1, 1, 5, 1],\n",
        "     [1, 1, 1, 9]],\n",
        "\n",
        "    [[1, 3, 1, 1],\n",
        "     [1, 1, 21, 1]]\n",
        "])\n",
        "\n",
        "# Acceder a los valores deseados\n",
        "v1 = ar[0, 0, 2]  # 5  [bloque, fila, columna]\n",
        "v2 = ar[0, 1, 3]  # 9\n",
        "v3 = ar[1, 0, 1]  # 3\n",
        "v4 = ar[1, 1, 2]  # 21\n",
        "\n",
        "print(\"Valores:\", v1, v2, v3, v4)"
      ],
      "metadata": {
        "id": "7XxCHmgoETIL",
        "colab": {
          "base_uri": "https://localhost:8080/"
        },
        "outputId": "c2609b75-6242-4a45-9924-1cbc1aff2d49"
      },
      "execution_count": 5,
      "outputs": [
        {
          "output_type": "stream",
          "name": "stdout",
          "text": [
            "Valores: 5 9 3 21\n"
          ]
        }
      ]
    },
    {
      "cell_type": "markdown",
      "source": [
        "### ***Ejercicio:***\n",
        "\n",
        "Basado en el siguiente arreglo, obtén el segmento correspondiente desde los índices 2 a 6:\n",
        "\n",
        "'ar = np.array([1, 2, 3, 4, 5, 6, 7, 8, 9, 10])'"
      ],
      "metadata": {
        "id": "5s-lwQtNgsYB"
      }
    },
    {
      "cell_type": "code",
      "source": [
        "#Escribe la solución al problema planteado anteriormente.\n",
        "ar = np.array([1, 2, 3, 4, 5, 6, 7, 8, 9, 10])\n",
        "\n",
        "segmento = ar[2:7]  # Del indice 2 al 6 (el 7 no se incluye)\n",
        "\n",
        "print(\"Segmento:\", segmento)"
      ],
      "metadata": {
        "id": "LI2ES0kgERJg",
        "colab": {
          "base_uri": "https://localhost:8080/"
        },
        "outputId": "4b1e0620-8339-43d0-c30c-0947250be96d"
      },
      "execution_count": 6,
      "outputs": [
        {
          "output_type": "stream",
          "name": "stdout",
          "text": [
            "Segmento: [3 4 5 6 7]\n"
          ]
        }
      ]
    },
    {
      "cell_type": "markdown",
      "source": [
        "***ESCRIBE Y COMPARTE TUS REFLEXIONES DE LOS TEMAS VISTOS ANTERIORMENTE.***\n",
        "\n",
        "Numpy es un paquete basado en C y eso lo hace muy potente para realizar operaciones matriciales, hay una gran variedad de funciones por ejemplo: varianza, desviacion estandard, covariancia etc. Ademas se puedan procesar una cantidad muy grande de datos y sus usos son muy enfocados a ciencia de datos."
      ],
      "metadata": {
        "id": "SG9zH2AYMsnV"
      }
    },
    {
      "cell_type": "markdown",
      "source": [
        "![Gracias_Allinco.jpg](data:image/jpeg;base64,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)"
      ],
      "metadata": {
        "id": "zsdUdF9w-pew"
      }
    }
  ]
}